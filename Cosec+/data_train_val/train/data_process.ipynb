{
 "cells": [
  {
   "cell_type": "code",
   "execution_count": null,
   "metadata": {},
   "outputs": [
    {
     "name": "stdout",
     "output_type": "stream",
     "text": [
      "Max size: 184, Min size: 38, Middle value: 111\n",
      "Resampling complete. Saved to: /home/liuchao/shushanfu/CoSec2/data_train_val/train/cwe-476.jsonl\n",
      "Resampling complete. Saved to: /home/liuchao/shushanfu/CoSec2/data_train_val/train/cwe-079.jsonl\n",
      "Resampling complete. Saved to: /home/liuchao/shushanfu/CoSec2/data_train_val/train/cwe-078.jsonl\n",
      "Resampling complete. Saved to: /home/liuchao/shushanfu/CoSec2/data_train_val/train/cwe-022.jsonl\n",
      "Resampling complete. Saved to: /home/liuchao/shushanfu/CoSec2/data_train_val/train/cwe-787.jsonl\n",
      "Resampling complete. Saved to: /home/liuchao/shushanfu/CoSec2/data_train_val/train/cwe-089.jsonl\n",
      "Resampling complete. Saved to: /home/liuchao/shushanfu/CoSec2/data_train_val/train/cwe-125.jsonl\n",
      "Resampling complete. Saved to: /home/liuchao/shushanfu/CoSec2/data_train_val/train/cwe-416.jsonl\n",
      "Resampling complete. Saved to: /home/liuchao/shushanfu/CoSec2/data_train_val/train/cwe-190.jsonl\n"
     ]
    }
   ],
   "source": [
    "import json\n",
    "import random\n",
    "import os\n",
    "\n",
    "def resample_jsonl(file_path, output_dir, target_size):\n",
    "    random.seed(3407)\n",
    "    # 读取JSONL文件\n",
    "    with open(file_path, 'r', encoding='utf-8') as file:\n",
    "        lines = file.readlines()\n",
    "    \n",
    "    current_size = len(lines)\n",
    "    \n",
    "    if current_size > target_size:\n",
    "        # 向下采样\n",
    "        resampled_lines = random.sample(lines, target_size)\n",
    "    else:\n",
    "        # 向上采样（重复采样直到达到目标数量）\n",
    "        resampled_lines = lines * (target_size // current_size) + random.sample(lines, target_size % current_size)\n",
    "\n",
    "    # 创建输出目录（如果不存在）\n",
    "    if not os.path.exists(output_dir):\n",
    "        os.makedirs(output_dir)\n",
    "\n",
    "    # 使用原始文件名保存到新的文件夹\n",
    "    output_file = os.path.join(output_dir, os.path.basename(file_path))\n",
    "    with open(output_file, 'w', encoding='utf-8') as file:\n",
    "        file.writelines(resampled_lines)\n",
    "\n",
    "    print(f'Resampling complete. Saved to: {output_file}')\n",
    "\n",
    "def get_middle_value(input_dir):\n",
    "    file_sizes = []\n",
    "    \n",
    "    # 获取所有JSONL文件的行数\n",
    "    for filename in os.listdir(input_dir):\n",
    "        if filename.endswith('.jsonl'):\n",
    "            file_path = os.path.join(input_dir, filename)\n",
    "            with open(file_path, 'r', encoding='utf-8') as file:\n",
    "                lines = file.readlines()\n",
    "                file_sizes.append(len(lines))\n",
    "    \n",
    "    # 计算最大值和最小值的中间值\n",
    "    if file_sizes:\n",
    "        max_size = max(file_sizes)\n",
    "        min_size = min(file_sizes)\n",
    "        middle_value = (max_size + min_size) // 2\n",
    "        print(f'Max size: {max_size}, Min size: {min_size}, Middle value: {middle_value}')\n",
    "        return middle_value\n",
    "    else:\n",
    "        print(\"No JSONL files found.\")\n",
    "        return None\n",
    "\n",
    "# 批量处理多个JSONL文件\n",
    "def resample_multiple_jsonl_files(input_dir, output_dir):\n",
    "    middle_value = get_middle_value(input_dir)\n",
    "    \n",
    "    if middle_value:\n",
    "        for filename in os.listdir(input_dir):\n",
    "            if filename.endswith('.jsonl'):\n",
    "                file_path = os.path.join(input_dir, filename)\n",
    "                resample_jsonl(file_path, output_dir, middle_value)\n",
    "\n",
    "# 运行函数\n",
    "input_directory = '/path/to/CoSec2/data_train_val/train_org'  # 替换为你的JSONL文件夹路径\n",
    "output_directory = '/path/to/CoSec2/data_train_val/train'\n",
    "resample_multiple_jsonl_files(input_directory, output_directory)\n"
   ]
  },
  {
   "cell_type": "code",
   "execution_count": null,
   "metadata": {},
   "outputs": [],
   "source": []
  }
 ],
 "metadata": {
  "kernelspec": {
   "display_name": "Cosec",
   "language": "python",
   "name": "python3"
  },
  "language_info": {
   "codemirror_mode": {
    "name": "ipython",
    "version": 3
   },
   "file_extension": ".py",
   "mimetype": "text/x-python",
   "name": "python",
   "nbconvert_exporter": "python",
   "pygments_lexer": "ipython3",
   "version": "3.10.14"
  }
 },
 "nbformat": 4,
 "nbformat_minor": 2
}
